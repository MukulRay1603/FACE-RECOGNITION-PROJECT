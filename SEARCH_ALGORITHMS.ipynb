{
  "nbformat": 4,
  "nbformat_minor": 0,
  "metadata": {
    "colab": {
      "provenance": [],
      "include_colab_link": true
    },
    "kernelspec": {
      "name": "python3",
      "display_name": "Python 3"
    },
    "language_info": {
      "name": "python"
    }
  },
  "cells": [
    {
      "cell_type": "markdown",
      "metadata": {
        "id": "view-in-github",
        "colab_type": "text"
      },
      "source": [
        "<a href=\"https://colab.research.google.com/github/MukulRay1603/Robotics-with-AI/blob/main/SEARCH_ALGORITHMS.ipynb\" target=\"_parent\"><img src=\"https://colab.research.google.com/assets/colab-badge.svg\" alt=\"Open In Colab\"/></a>"
      ]
    },
    {
      "cell_type": "markdown",
      "source": [
        "### **BREADTH FIRST SEARCH (BFS)**"
      ],
      "metadata": {
        "id": "6Nd1WoJO2lDX"
      }
    },
    {
      "cell_type": "code",
      "execution_count": null,
      "metadata": {
        "id": "rTnqdkgHtsk8"
      },
      "outputs": [],
      "source": [
        "my_adj={\n",
        "    'sam':['Aaron','Binny'],\n",
        "    'Aaron':['sam','Christine','Danny'],\n",
        "    'Christine':['Aaron'],\n",
        "    'Danny':['Aaron'],\n",
        "    'Binny':['sam','Elvin','Flin'],\n",
        "    'Elvin':['Binny','Gini'],\n",
        "    'Flin':['Binny'],\n",
        "    'Gini':['Elvin']\n",
        "}"
      ]
    },
    {
      "cell_type": "code",
      "source": [
        "from collections import deque"
      ],
      "metadata": {
        "id": "rZSxp5nEwLHh"
      },
      "execution_count": null,
      "outputs": []
    },
    {
      "cell_type": "code",
      "source": [
        "def bfs(my_adj,start,goal):\n",
        "    visited = []\n",
        "    queue = deque([start])\n",
        "    while queue:\n",
        "      node = queue.popleft()\n",
        "      if node not in visited :\n",
        "        visited.append(node)\n",
        "        print(\"i have visited:\",node)\n",
        "        neighbours = my_adj[node]\n",
        "        if node == goal:\n",
        "          return(\"I have visited and my path is:\",visited)\n",
        "        for neighbour in neighbours:\n",
        "          queue.append(neighbour)\n"
      ],
      "metadata": {
        "id": "vU0YGKDywbGQ"
      },
      "execution_count": null,
      "outputs": []
    },
    {
      "cell_type": "code",
      "source": [
        "bfs(my_adj,'sam','Gini')"
      ],
      "metadata": {
        "colab": {
          "base_uri": "https://localhost:8080/"
        },
        "id": "Ko7XlzJrzwI0",
        "outputId": "c2cef707-288a-4160-c12d-5cc59bd7b687"
      },
      "execution_count": null,
      "outputs": [
        {
          "output_type": "stream",
          "name": "stdout",
          "text": [
            "i have visited: sam\n",
            "i have visited: Aaron\n",
            "i have visited: Binny\n",
            "i have visited: Christine\n",
            "i have visited: Danny\n",
            "i have visited: Elvin\n",
            "i have visited: Flin\n",
            "i have visited: Gini\n"
          ]
        },
        {
          "output_type": "execute_result",
          "data": {
            "text/plain": [
              "('I have visited and my path is:',\n",
              " ['sam', 'Aaron', 'Binny', 'Christine', 'Danny', 'Elvin', 'Flin', 'Gini'])"
            ]
          },
          "metadata": {},
          "execution_count": 28
        }
      ]
    },
    {
      "cell_type": "markdown",
      "source": [
        "### **DEPTH FIRST SEARCH (DFS)**"
      ],
      "metadata": {
        "id": "mXbb5LnI2vOV"
      }
    },
    {
      "cell_type": "code",
      "source": [
        "visited = []\n",
        "\n",
        "def dfs(visited, my_adj, node):  #function for dfs \n",
        "    if node not in visited:\n",
        "        print (node)\n",
        "        visited.append(node)\n",
        "        print(\"i have visited:\",node)\n",
        "        for neighbour in my_adj[node]:\n",
        "            dfs(visited, my_adj, neighbour)\n",
        "        if node == visited:\n",
        "          return(\"I have visited and my path is:\",visited)\n",
        "        for neighbour in neighbours:\n",
        "          queue.append(neighbour)"
      ],
      "metadata": {
        "id": "DswYyc0l21Le"
      },
      "execution_count": null,
      "outputs": []
    },
    {
      "cell_type": "code",
      "source": [
        "dfs(visited,my_adj,'Gini')"
      ],
      "metadata": {
        "id": "w9j-39uP6In8",
        "colab": {
          "base_uri": "https://localhost:8080/",
          "height": 305
        },
        "outputId": "4fe67830-fb6c-4050-ad51-70e1e478e2c4"
      },
      "execution_count": null,
      "outputs": [
        {
          "output_type": "stream",
          "name": "stdout",
          "text": [
            "Gini\n"
          ]
        },
        {
          "output_type": "error",
          "ename": "AttributeError",
          "evalue": "ignored",
          "traceback": [
            "\u001b[0;31m---------------------------------------------------------------------------\u001b[0m",
            "\u001b[0;31mAttributeError\u001b[0m                            Traceback (most recent call last)",
            "\u001b[0;32m<ipython-input-69-abbec62a0ffc>\u001b[0m in \u001b[0;36m<module>\u001b[0;34m\u001b[0m\n\u001b[0;32m----> 1\u001b[0;31m \u001b[0mdfs\u001b[0m\u001b[0;34m(\u001b[0m\u001b[0mvisited\u001b[0m\u001b[0;34m,\u001b[0m\u001b[0mmy_adj\u001b[0m\u001b[0;34m,\u001b[0m\u001b[0;34m'Gini'\u001b[0m\u001b[0;34m)\u001b[0m\u001b[0;34m\u001b[0m\u001b[0;34m\u001b[0m\u001b[0m\n\u001b[0m",
            "\u001b[0;32m<ipython-input-68-3f520c3c217f>\u001b[0m in \u001b[0;36mdfs\u001b[0;34m(visited, my_adj, node)\u001b[0m\n\u001b[1;32m      4\u001b[0m     \u001b[0;32mif\u001b[0m \u001b[0mnode\u001b[0m \u001b[0;32mnot\u001b[0m \u001b[0;32min\u001b[0m \u001b[0mvisited\u001b[0m\u001b[0;34m:\u001b[0m\u001b[0;34m\u001b[0m\u001b[0;34m\u001b[0m\u001b[0m\n\u001b[1;32m      5\u001b[0m         \u001b[0mprint\u001b[0m \u001b[0;34m(\u001b[0m\u001b[0mnode\u001b[0m\u001b[0;34m)\u001b[0m\u001b[0;34m\u001b[0m\u001b[0;34m\u001b[0m\u001b[0m\n\u001b[0;32m----> 6\u001b[0;31m         \u001b[0mvisited\u001b[0m\u001b[0;34m.\u001b[0m\u001b[0madd\u001b[0m\u001b[0;34m(\u001b[0m\u001b[0mnode\u001b[0m\u001b[0;34m)\u001b[0m\u001b[0;34m\u001b[0m\u001b[0;34m\u001b[0m\u001b[0m\n\u001b[0m\u001b[1;32m      7\u001b[0m         \u001b[0mprint\u001b[0m\u001b[0;34m(\u001b[0m\u001b[0;34m\"i have visited:\"\u001b[0m\u001b[0;34m,\u001b[0m\u001b[0mnode\u001b[0m\u001b[0;34m)\u001b[0m\u001b[0;34m\u001b[0m\u001b[0;34m\u001b[0m\u001b[0m\n\u001b[1;32m      8\u001b[0m         \u001b[0;32mfor\u001b[0m \u001b[0mneighbour\u001b[0m \u001b[0;32min\u001b[0m \u001b[0mmy_adj\u001b[0m\u001b[0;34m[\u001b[0m\u001b[0mnode\u001b[0m\u001b[0;34m]\u001b[0m\u001b[0;34m:\u001b[0m\u001b[0;34m\u001b[0m\u001b[0;34m\u001b[0m\u001b[0m\n",
            "\u001b[0;31mAttributeError\u001b[0m: 'list' object has no attribute 'add'"
          ]
        }
      ]
    },
    {
      "cell_type": "markdown",
      "source": [
        "### **Importing Libraries**"
      ],
      "metadata": {
        "id": "08em4zlN3zcv"
      }
    },
    {
      "cell_type": "code",
      "source": [
        "import networkx as nx\n",
        "import matplotlib.pyplot as plt\n",
        "%matplotlib inline"
      ],
      "metadata": {
        "id": "ags6re1g317t"
      },
      "execution_count": null,
      "outputs": []
    },
    {
      "cell_type": "code",
      "source": [
        "def dist(a,b):\n",
        "  (x1,y1) =a \n",
        "  (x2,y2) =b\n",
        "  return ((x1-x2)**2 + (y1-y2)**2)**0.5"
      ],
      "metadata": {
        "id": "f9M4AeMB4Hjr"
      },
      "execution_count": null,
      "outputs": []
    },
    {
      "cell_type": "markdown",
      "source": [
        "### **Defining GRid Graph**"
      ],
      "metadata": {
        "id": "HiIthVVA5Z1M"
      }
    },
    {
      "cell_type": "code",
      "source": [
        "G= nx.grid_graph([3,3])\n",
        "nx.set_edge_attributes(G,{e:e[1][0]*2 for e in G.edges()},\"cost\")"
      ],
      "metadata": {
        "id": "qj18OK9t4lyd"
      },
      "execution_count": null,
      "outputs": []
    },
    {
      "cell_type": "markdown",
      "source": [
        "### **Visualizing Grid Graph**"
      ],
      "metadata": {
        "id": "FbxV_6UQ5dFA"
      }
    },
    {
      "cell_type": "code",
      "source": [
        "pos = nx.spring_layout(G)\n",
        "nx.draw(G, pos,with_labels=True)\n",
        "edge_labels =nx.get_edge_attributes(G,\"cost\")\n",
        "nx.draw_networkx_edge_labels(G,pos,edge_labels=edge_labels)\n",
        "plt.show()"
      ],
      "metadata": {
        "id": "B3ZhGKFO5fu7",
        "colab": {
          "base_uri": "https://localhost:8080/",
          "height": 319
        },
        "outputId": "a3558752-6818-410e-982c-18ce96218512"
      },
      "execution_count": null,
      "outputs": [
        {
          "output_type": "display_data",
          "data": {
            "text/plain": [
              "<Figure size 432x288 with 1 Axes>"
            ],
            "image/png": "[encoded data removed]"
          },
          "metadata": {}
        }
      ]
    },
    {
      "cell_type": "markdown",
      "source": [
        "### **A Star ALGORITHM**"
      ],
      "metadata": {
        "id": "UVoT-0LX_0KT"
      }
    },
    {
      "cell_type": "code",
      "source": [
        "path = nx.astar_path(G,(0,0),(2,2),heuristic=dist ,weight='cost')"
      ],
      "metadata": {
        "id": "Z25VKuBe_j_J"
      },
      "execution_count": 72,
      "outputs": []
    },
    {
      "cell_type": "markdown",
      "source": [
        "### **Finding Length**"
      ],
      "metadata": {
        "id": "Ekj3yUpgAeoC"
      }
    },
    {
      "cell_type": "code",
      "source": [
        "length= nx.astar_path_length(G, (0,0), (2,2), heuristic=dist, weight='cost')"
      ],
      "metadata": {
        "id": "zc17jfA4AgYj"
      },
      "execution_count": 71,
      "outputs": []
    },
    {
      "cell_type": "code",
      "source": [
        "print(\"Path: \",path)\n",
        "print(\"Path Length: \",path)"
      ],
      "metadata": {
        "colab": {
          "base_uri": "https://localhost:8080/"
        },
        "id": "e8bOaqEdAxGx",
        "outputId": "94e9b688-80d9-46ec-d09b-5ba29e4c5339"
      },
      "execution_count": 74,
      "outputs": [
        {
          "output_type": "stream",
          "name": "stdout",
          "text": [
            "Path:  [(0, 0), (0, 1), (0, 2), (1, 2), (2, 2)]\n",
            "Path Length:  [(0, 0), (0, 1), (0, 2), (1, 2), (2, 2)]\n"
          ]
        }
      ]
    }
  ]
}